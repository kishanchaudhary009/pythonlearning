{
 "cells": [
  {
   "cell_type": "code",
   "execution_count": 19,
   "metadata": {},
   "outputs": [
    {
     "name": "stdout",
     "output_type": "stream",
     "text": [
      "<class 'int'>\n",
      "<class 'str'>\n",
      "<class 'float'>\n",
      "<class 'bool'>\n"
     ]
    }
   ],
   "source": [
    "#types\n",
    "a = 10\n",
    "b = \"kishan\"\n",
    "c = 1.2\n",
    "g = True\n",
    "print(type(a))\n",
    "print(type(b))\n",
    "print(type(c))\n",
    "print(type(g))"
   ]
  },
  {
   "cell_type": "code",
   "execution_count": 1,
   "metadata": {},
   "outputs": [
    {
     "name": "stdout",
     "output_type": "stream",
     "text": [
      "1\n",
      "123.5\n"
     ]
    }
   ],
   "source": [
    "#typeconverter\n",
    "d  =1.7\n",
    "print(int(d))\n",
    "e = \"123.5\"\n",
    "print(float(e))"
   ]
  },
  {
   "cell_type": "code",
   "execution_count": null,
   "metadata": {},
   "outputs": [
    {
     "name": "stdout",
     "output_type": "stream",
     "text": [
      "1.3333333333333333\n",
      "1\n"
     ]
    }
   ],
   "source": [
    "#operators\n",
    "h = 4/3\n",
    "print(h)\n",
    "i = 4//3\n",
    "print(i)"
   ]
  },
  {
   "cell_type": "code",
   "execution_count": 43,
   "metadata": {},
   "outputs": [
    {
     "name": "stdout",
     "output_type": "stream",
     "text": [
      "k\n",
      "k\n",
      "ksa huhr\n",
      "kisha\n",
      "ksa\n",
      "6\n",
      "final name = kishankishan chaudhary\n",
      "kishankishankishan\n",
      "kishan\tchaudhary\n",
      "kishan\\tchaudhary\n",
      "kishan\\tchaudhary\n",
      "2\n"
     ]
    }
   ],
   "source": [
    "#string\n",
    "j = \"kishan\"\n",
    "print(j[0])\n",
    "#negative indexing in python for string\n",
    "# k  i  s  h  a  n\n",
    "#-1 -2 -3 -4 -5 -6\n",
    "print(j[-6])\n",
    "k = \"kishan chaudhary\"\n",
    "#slicing in string\n",
    "print(k[::2])\n",
    "#picking every 2 elements in str\n",
    "print(k[0:5])\n",
    "#picking first 5\n",
    "print(k[0:5:2])\n",
    "#picking every 2 until 5th ele\n",
    "\n",
    "\n",
    "print(len(j))\n",
    "print(\"final name = \"+ j + k)\n",
    "#multiply of string\n",
    "l = 3 *j\n",
    "print(l)\n",
    "\n",
    "m = \"kishan\\tchaudhary\"\n",
    "print(m)\n",
    "n = \"kishan\\\\tchaudhary\"\n",
    "print(n)\n",
    "o = r\"kishan\\tchaudhary\"\n",
    "print(o)\n",
    "\n",
    "p = str(1+1)\n",
    "print(p)\n"
   ]
  },
  {
   "cell_type": "code",
   "execution_count": 10,
   "metadata": {},
   "outputs": [
    {
     "name": "stdout",
     "output_type": "stream",
     "text": [
      "<class 'tuple'>\n",
      "tp length = 2\n"
     ]
    }
   ],
   "source": [
    "#tuple\n",
    "tp = (\"kishan\",3)\n",
    "print(type(tp))\n",
    "tp[0]\n",
    "tp[1]\n",
    "tp[0:2]\n",
    "#same negative works here too\n",
    "\n",
    "tp[-1]\n",
    "\n",
    "print(\"tp length = \"+str(len(tp)))"
   ]
  },
  {
   "cell_type": "code",
   "execution_count": 3,
   "metadata": {},
   "outputs": [
    {
     "name": "stdout",
     "output_type": "stream",
     "text": [
      "(2, 3)\n",
      "(2, 3)\n"
     ]
    },
    {
     "ename": "TypeError",
     "evalue": "'tuple' object does not support item assignment",
     "output_type": "error",
     "traceback": [
      "\u001b[31m---------------------------------------------------------------------------\u001b[39m",
      "\u001b[31mTypeError\u001b[39m                                 Traceback (most recent call last)",
      "\u001b[36mCell\u001b[39m\u001b[36m \u001b[39m\u001b[32mIn[3]\u001b[39m\u001b[32m, line 6\u001b[39m\n\u001b[32m      4\u001b[39m tp2 = tp1\n\u001b[32m      5\u001b[39m \u001b[38;5;28mprint\u001b[39m(tp2[\u001b[32m0\u001b[39m:\u001b[32m2\u001b[39m])\n\u001b[32m----> \u001b[39m\u001b[32m6\u001b[39m \u001b[43mtp1\u001b[49m\u001b[43m[\u001b[49m\u001b[32;43m0\u001b[39;49m\u001b[43m]\u001b[49m = \u001b[32m5\u001b[39m \u001b[38;5;66;03m#this gives error\u001b[39;00m\n\u001b[32m      7\u001b[39m \u001b[38;5;28mprint\u001b[39m(tp1[\u001b[32m0\u001b[39m:\u001b[32m2\u001b[39m])\n\u001b[32m      8\u001b[39m \u001b[38;5;28mprint\u001b[39m(tp2[\u001b[32m0\u001b[39m:\u001b[32m2\u001b[39m])\n",
      "\u001b[31mTypeError\u001b[39m: 'tuple' object does not support item assignment"
     ]
    }
   ],
   "source": [
    "#tuples are uimmutable same as string\n",
    "tp1 = (2,3)\n",
    "print(tp1[0:2])\n",
    "tp2 = tp1\n",
    "print(tp2[0:2])\n",
    "tp1[0] = 5 #this gives error\n",
    "print(tp1[0:2])\n",
    "print(tp2[0:2])\n"
   ]
  },
  {
   "cell_type": "code",
   "execution_count": 20,
   "metadata": {},
   "outputs": [
    {
     "name": "stdout",
     "output_type": "stream",
     "text": [
      "(5, 3)\n"
     ]
    }
   ],
   "source": [
    "#therefore create a new tuple always if we want to change\n",
    "tp3 = (5,)+( tp1[1:2])\n",
    "print(tp3[0:2])"
   ]
  },
  {
   "cell_type": "code",
   "execution_count": 25,
   "metadata": {},
   "outputs": [
    {
     "name": "stdout",
     "output_type": "stream",
     "text": [
      "((2, 3), (5, 3))\n",
      "3\n",
      "(2, 3, (2, 3), (5, 3), 5, 3)\n"
     ]
    }
   ],
   "source": [
    "#nested tuples\n",
    "tp4 = (tp1,tp3)\n",
    "print(tp4[0:len(tp4)])\n",
    "print(tp4[0][1])\n",
    "#conocatination of tuples\n",
    "tp5 = tp1 + tp4 + tp3\n",
    "print(tp5[0:len(tp5)])"
   ]
  },
  {
   "cell_type": "code",
   "execution_count": 22,
   "metadata": {},
   "outputs": [
    {
     "name": "stdout",
     "output_type": "stream",
     "text": [
      "['kishan', 1, 2, 4.6]\n",
      "[0, 1, 2, 4.6]\n"
     ]
    }
   ],
   "source": [
    "#lists - muttable data structure\n",
    "#use []\n",
    "L1 = [\"kishan\", 1, 2, 4.60 ]\n",
    "print(L1[0:len(L1)])\n",
    "L1[0] = 0\n",
    "print(L1[0:len(L1)])\n",
    "#rest all same"
   ]
  },
  {
   "cell_type": "code",
   "execution_count": null,
   "metadata": {},
   "outputs": [
    {
     "name": "stdout",
     "output_type": "stream",
     "text": [
      "[0, 1, 2, 4.6, 'chaudhary', 'jay', 'king', ['abc,xyz']]\n",
      "[1, 2, 4.6, 'chaudhary', 'jay', 'king', ['abc,xyz']]\n",
      "['kishan', 'chaudhary']\n",
      "['kishan', 'jay', 'viru']\n"
     ]
    }
   ],
   "source": [
    "#list methods\n",
    "L1.extend([\"chaudhary\",\"jay\"])\n",
    "L1.append(\"king\")\n",
    "#appending is for adding one element, so if we add a list, it will add a list in list ,\n",
    "#  not the same with extend\n",
    "L1.append([\"abc,xyz\"])\n",
    "print(L1[0:len(L1)])\n",
    "del(L1[0])\n",
    "print(L1[0:len(L1)])\n",
    "name = \"kishan chaudhary\"\n",
    "# split method in python return a list spliting for a string\n",
    "l2 = name.split()\n",
    "print(l2[0:len(l2)])\n",
    "#using deliminator in split\n",
    "names = \"kishan,jay,viru\"\n",
    "l3 = names.split(\",\")\n",
    "print(l3[0:len(l3)])\n",
    "\n"
   ]
  },
  {
   "cell_type": "code",
   "execution_count": 24,
   "metadata": {},
   "outputs": [
    {
     "name": "stdout",
     "output_type": "stream",
     "text": [
      "Help on list object:\n",
      "\n",
      "class list(object)\n",
      " |  list(iterable=(), /)\n",
      " |  \n",
      " |  Built-in mutable sequence.\n",
      " |  \n",
      " |  If no argument is given, the constructor creates a new empty list.\n",
      " |  The argument must be an iterable if specified.\n",
      " |  \n",
      " |  Methods defined here:\n",
      " |  \n",
      " |  __add__(self, value, /)\n",
      " |      Return self+value.\n",
      " |  \n",
      " |  __contains__(self, key, /)\n",
      " |      Return key in self.\n",
      " |  \n",
      " |  __delitem__(self, key, /)\n",
      " |      Delete self[key].\n",
      " |  \n",
      " |  __eq__(self, value, /)\n",
      " |      Return self==value.\n",
      " |  \n",
      " |  __ge__(self, value, /)\n",
      " |      Return self>=value.\n",
      " |  \n",
      " |  __getattribute__(self, name, /)\n",
      " |      Return getattr(self, name).\n",
      " |  \n",
      " |  __getitem__(...)\n",
      " |      x.__getitem__(y) <==> x[y]\n",
      " |  \n",
      " |  __gt__(self, value, /)\n",
      " |      Return self>value.\n",
      " |  \n",
      " |  __iadd__(self, value, /)\n",
      " |      Implement self+=value.\n",
      " |  \n",
      " |  __imul__(self, value, /)\n",
      " |      Implement self*=value.\n",
      " |  \n",
      " |  __init__(self, /, *args, **kwargs)\n",
      " |      Initialize self.  See help(type(self)) for accurate signature.\n",
      " |  \n",
      " |  __iter__(self, /)\n",
      " |      Implement iter(self).\n",
      " |  \n",
      " |  __le__(self, value, /)\n",
      " |      Return self<=value.\n",
      " |  \n",
      " |  __len__(self, /)\n",
      " |      Return len(self).\n",
      " |  \n",
      " |  __lt__(self, value, /)\n",
      " |      Return self<value.\n",
      " |  \n",
      " |  __mul__(self, value, /)\n",
      " |      Return self*value.\n",
      " |  \n",
      " |  __ne__(self, value, /)\n",
      " |      Return self!=value.\n",
      " |  \n",
      " |  __repr__(self, /)\n",
      " |      Return repr(self).\n",
      " |  \n",
      " |  __reversed__(self, /)\n",
      " |      Return a reverse iterator over the list.\n",
      " |  \n",
      " |  __rmul__(self, value, /)\n",
      " |      Return value*self.\n",
      " |  \n",
      " |  __setitem__(self, key, value, /)\n",
      " |      Set self[key] to value.\n",
      " |  \n",
      " |  __sizeof__(self, /)\n",
      " |      Return the size of the list in memory, in bytes.\n",
      " |  \n",
      " |  append(self, object, /)\n",
      " |      Append object to the end of the list.\n",
      " |  \n",
      " |  clear(self, /)\n",
      " |      Remove all items from list.\n",
      " |  \n",
      " |  copy(self, /)\n",
      " |      Return a shallow copy of the list.\n",
      " |  \n",
      " |  count(self, value, /)\n",
      " |      Return number of occurrences of value.\n",
      " |  \n",
      " |  extend(self, iterable, /)\n",
      " |      Extend list by appending elements from the iterable.\n",
      " |  \n",
      " |  index(self, value, start=0, stop=9223372036854775807, /)\n",
      " |      Return first index of value.\n",
      " |      \n",
      " |      Raises ValueError if the value is not present.\n",
      " |  \n",
      " |  insert(self, index, object, /)\n",
      " |      Insert object before index.\n",
      " |  \n",
      " |  pop(self, index=-1, /)\n",
      " |      Remove and return item at index (default last).\n",
      " |      \n",
      " |      Raises IndexError if list is empty or index is out of range.\n",
      " |  \n",
      " |  remove(self, value, /)\n",
      " |      Remove first occurrence of value.\n",
      " |      \n",
      " |      Raises ValueError if the value is not present.\n",
      " |  \n",
      " |  reverse(self, /)\n",
      " |      Reverse *IN PLACE*.\n",
      " |  \n",
      " |  sort(self, /, *, key=None, reverse=False)\n",
      " |      Sort the list in ascending order and return None.\n",
      " |      \n",
      " |      The sort is in-place (i.e. the list itself is modified) and stable (i.e. the\n",
      " |      order of two equal elements is maintained).\n",
      " |      \n",
      " |      If a key function is given, apply it once to each list item and sort them,\n",
      " |      ascending or descending, according to their function values.\n",
      " |      \n",
      " |      The reverse flag can be set to sort in descending order.\n",
      " |  \n",
      " |  ----------------------------------------------------------------------\n",
      " |  Class methods defined here:\n",
      " |  \n",
      " |  __class_getitem__(...) from builtins.type\n",
      " |      See PEP 585\n",
      " |  \n",
      " |  ----------------------------------------------------------------------\n",
      " |  Static methods defined here:\n",
      " |  \n",
      " |  __new__(*args, **kwargs) from builtins.type\n",
      " |      Create and return a new object.  See help(type) for accurate signature.\n",
      " |  \n",
      " |  ----------------------------------------------------------------------\n",
      " |  Data and other attributes defined here:\n",
      " |  \n",
      " |  __hash__ = None\n",
      "\n"
     ]
    }
   ],
   "source": [
    "#imp help command in python\n",
    "help(l3)"
   ]
  },
  {
   "cell_type": "code",
   "execution_count": null,
   "metadata": {},
   "outputs": [
    {
     "data": {
      "text/plain": [
       "(2, 3, 4)"
      ]
     },
     "execution_count": 26,
     "metadata": {},
     "output_type": "execute_result"
    }
   ],
   "source": [
    "[1,2]+[1,2]\n",
    "A=(1,2,3,4,5)\n",
    "A[1:4] #this will print 2,3,4 not 2,3,4,5"
   ]
  },
  {
   "cell_type": "code",
   "execution_count": null,
   "metadata": {},
   "outputs": [
    {
     "ename": "KeyError",
     "evalue": "'key1'",
     "output_type": "error",
     "traceback": [
      "\u001b[0;31m---------------------------------------------------------------------------\u001b[0m",
      "\u001b[0;31mKeyError\u001b[0m                                  Traceback (most recent call last)",
      "Cell \u001b[0;32mIn[32], line 12\u001b[0m\n\u001b[1;32m     10\u001b[0m \u001b[38;5;28mdict\u001b[39m[\u001b[38;5;124m\"\u001b[39m\u001b[38;5;124mkey3\u001b[39m\u001b[38;5;124m\"\u001b[39m]\n\u001b[1;32m     11\u001b[0m \u001b[38;5;28;01mdel\u001b[39;00m(\u001b[38;5;28mdict\u001b[39m[\u001b[38;5;124m\"\u001b[39m\u001b[38;5;124mkey1\u001b[39m\u001b[38;5;124m\"\u001b[39m])\n\u001b[0;32m---> 12\u001b[0m \u001b[38;5;28;43mdict\u001b[39;49m\u001b[43m[\u001b[49m\u001b[38;5;124;43m\"\u001b[39;49m\u001b[38;5;124;43mkey1\u001b[39;49m\u001b[38;5;124;43m\"\u001b[39;49m\u001b[43m]\u001b[49m\n",
      "\u001b[0;31mKeyError\u001b[0m: 'key1'"
     ]
    }
   ],
   "source": [
    "#dictionaries in python\n",
    "dict = {\n",
    "    \"key1\":\"hello\",\n",
    "    \"key2\":1\n",
    "}\n",
    "dict[\"key1\"]\n",
    "dict[\"key2\"]\n",
    "#print(dict[\"key3\"]) //gives keyerror\n",
    "dict[\"key3\"]=\"king\"\n",
    "dict[\"key3\"]\n",
    "del(dict[\"key1\"])\n",
    "#dict[\"key1\"] this will give key error too"
   ]
  },
  {
   "cell_type": "code",
   "execution_count": 35,
   "metadata": {},
   "outputs": [
    {
     "name": "stdout",
     "output_type": "stream",
     "text": [
      "False\n",
      "True\n"
     ]
    }
   ],
   "source": [
    "#how to verify whether key is in dict or not without error\n",
    "#using in command\n",
    "print(\"key1\" in dict)\n",
    "print(\"key3\" in dict)"
   ]
  },
  {
   "cell_type": "code",
   "execution_count": 37,
   "metadata": {},
   "outputs": [
    {
     "data": {
      "text/plain": [
       "dict_values([1, 'king'])"
      ]
     },
     "execution_count": 37,
     "metadata": {},
     "output_type": "execute_result"
    }
   ],
   "source": [
    "#printing all keys and values\n",
    "dict.keys()\n",
    "dict.values()"
   ]
  },
  {
   "cell_type": "code",
   "execution_count": 4,
   "metadata": {},
   "outputs": [
    {
     "name": "stdout",
     "output_type": "stream",
     "text": [
      "{1, 2, 'kishan'}\n"
     ]
    }
   ],
   "source": [
    "#sets\n",
    "#use curly brackets\n",
    "set1 = {1,2,\"kishan\"}\n",
    "# print(set1[0]) this is not possible, as sets are unordered\n",
    "print(set1)"
   ]
  },
  {
   "cell_type": "code",
   "execution_count": null,
   "metadata": {},
   "outputs": [
    {
     "name": "stdout",
     "output_type": "stream",
     "text": [
      "{1, 2, 3}\n",
      "False\n"
     ]
    }
   ],
   "source": [
    "#convrting list to a set using set() typecasting function\n",
    "newl = [1,2,3,3,2,1]\n",
    "newset = set(newl)\n",
    "print(newset)\n",
    "newset.add(\"kishan\")\n",
    "#newset.remove(0) error as not found\n",
    "print(\"0\" in newset)\n",
    "#then try to delete it based on ture or false"
   ]
  },
  {
   "cell_type": "code",
   "execution_count": 14,
   "metadata": {},
   "outputs": [
    {
     "name": "stdout",
     "output_type": "stream",
     "text": [
      "{'kishan'}\n",
      "{'singh', 'kishan', 'chaudhary'}\n"
     ]
    },
    {
     "data": {
      "text/plain": [
       "True"
      ]
     },
     "execution_count": 14,
     "metadata": {},
     "output_type": "execute_result"
    }
   ],
   "source": [
    "#intersection of two sets\n",
    "set1 = {\"kishan\",\"chaudhary\"}\n",
    "set2 = {\"kishan\",\"singh\"}\n",
    "#using & operator\n",
    "print(set1 & set2)\n",
    "\n",
    "#union of two sets\n",
    "print(set1.union(set2))\n",
    "set3 = {\"kishan\"}\n",
    "set3.issubset(set1)\n"
   ]
  },
  {
   "cell_type": "code",
   "execution_count": 14,
   "metadata": {},
   "outputs": [
    {
     "name": "stdout",
     "output_type": "stream",
     "text": [
      "false\n"
     ]
    }
   ],
   "source": [
    "#if-else condition\n",
    "age = 17\n",
    "if(age<17):\n",
    "    print(\"true\")\n",
    "elif(age>17):\n",
    "    print(\"verybig\")\n",
    "else : print(\"false\")\n"
   ]
  },
  {
   "cell_type": "code",
   "execution_count": 13,
   "metadata": {},
   "outputs": [
    {
     "name": "stdout",
     "output_type": "stream",
     "text": [
      "false\n",
      "true\n"
     ]
    }
   ],
   "source": [
    "one  = True\n",
    "two = False\n",
    "if(one and two):\n",
    " print(\"true\")\n",
    "else:\n",
    " print(\"false\")\n",
    "\n",
    "if(one or two):\n",
    "  print(\"true\")\n",
    "else:\n",
    "  print(\"false\")"
   ]
  },
  {
   "cell_type": "code",
   "execution_count": 22,
   "metadata": {},
   "outputs": [
    {
     "name": "stdout",
     "output_type": "stream",
     "text": [
      "0\n",
      "1\n",
      "2\n",
      "3\n",
      "4\n"
     ]
    }
   ],
   "source": [
    "#conditionals\n",
    "for  i in range(0,5):\n",
    "    print(i)\n",
    "\n"
   ]
  },
  {
   "cell_type": "code",
   "execution_count": 28,
   "metadata": {},
   "outputs": [
    {
     "name": "stdout",
     "output_type": "stream",
     "text": [
      "(0, 1)\n",
      "(1, 2)\n",
      "(2, 3)\n",
      "(3, 4)\n",
      "(4, 5)\n",
      "(5, 'kishan')\n",
      "1\n",
      "2\n",
      "3\n",
      "4\n",
      "5\n",
      "kishan\n"
     ]
    }
   ],
   "source": [
    "lister = [1,2,3,4,5,\"kishan\"]\n",
    "# for i in range(0,6):\n",
    "#     print(i)\n",
    "#     print(lister[i])\n",
    "#the aboe works too\n",
    "\n",
    "for ele in enumerate(lister):\n",
    "    print(ele)\n",
    "\n",
    "for i,ele in enumerate(lister):\n",
    "    print(ele)"
   ]
  },
  {
   "cell_type": "code",
   "execution_count": 31,
   "metadata": {},
   "outputs": [
    {
     "name": "stdout",
     "output_type": "stream",
     "text": [
      "kishan\n",
      "chaudhary\n"
     ]
    }
   ],
   "source": [
    "dictnew = {\n",
    "    \"key1\":\"kishan\",\n",
    "    \"key2\":\"chaudhary\"\n",
    "}\n",
    "for i,ele in enumerate(dictnew):\n",
    "    print(dictnew[ele])"
   ]
  },
  {
   "cell_type": "code",
   "execution_count": 34,
   "metadata": {},
   "outputs": [
    {
     "name": "stdout",
     "output_type": "stream",
     "text": [
      "0\n",
      "1\n",
      "2\n",
      "3\n",
      "4\n",
      "1\n",
      "2\n",
      "kishan\n",
      "don\n"
     ]
    }
   ],
   "source": [
    "#while loop\n",
    "start = 0\n",
    "while(start<5):\n",
    "    print(start)\n",
    "    start+=1\n",
    "\n",
    "newlist = [1,2,\"kishan\",\"don\"]\n",
    "curridx = 0\n",
    "while(curridx<len(newlist)):\n",
    "    print(newlist[curridx])\n",
    "    curridx+=1"
   ]
  },
  {
   "cell_type": "code",
   "execution_count": 2,
   "metadata": {},
   "outputs": [
    {
     "name": "stdout",
     "output_type": "stream",
     "text": [
      "kishan\n",
      "chaudhary\n"
     ]
    }
   ],
   "source": [
    "#functions in python\n",
    "def printmyname():\n",
    "    print(\"kishan\")\n",
    "\n",
    "printmyname()\n",
    "\n",
    "def printthisname(name):\n",
    "    print(name)\n",
    "\n",
    "printthisname(\"chaudhary\")"
   ]
  },
  {
   "cell_type": "code",
   "execution_count": 11,
   "metadata": {},
   "outputs": [
    {
     "name": "stdout",
     "output_type": "stream",
     "text": [
      "[0, 1, 2, 3, 5]\n",
      "[1, 5, 2, 3, 0]\n"
     ]
    }
   ],
   "source": [
    "listnew = [1,5,2,3,0]\n",
    "print(sorted(listnew))\n",
    "print(listnew)\n",
    "#this method can sort only whe all data types are same"
   ]
  },
  {
   "cell_type": "code",
   "execution_count": 9,
   "metadata": {},
   "outputs": [
    {
     "name": "stdout",
     "output_type": "stream",
     "text": [
      "Help on function docfunction in module __main__:\n",
      "\n",
      "docfunction(a, b)\n",
      "    hello this is a function that adds up two number\n",
      "\n",
      "11\n"
     ]
    }
   ],
   "source": [
    "#adding documentation to a function\n",
    "def docfunction(a,b):\n",
    "    \"\"\"\n",
    "     hello this is a function that adds up two number\n",
    "    \"\"\"\n",
    "    return a+b\n",
    "\n",
    "c = docfunction(5,6)\n",
    "help(docfunction)\n",
    "print(c)"
   ]
  },
  {
   "cell_type": "code",
   "execution_count": null,
   "metadata": {},
   "outputs": [],
   "source": []
  },
  {
   "cell_type": "code",
   "execution_count": null,
   "metadata": {},
   "outputs": [
    {
     "name": "stdout",
     "output_type": "stream",
     "text": [
      "1w\n"
     ]
    },
    {
     "ename": "ValueError",
     "evalue": "invalid literal for int() with base 10: '3d'",
     "output_type": "error",
     "traceback": [
      "\u001b[0;31m---------------------------------------------------------------------------\u001b[0m",
      "\u001b[0;31mValueError\u001b[0m                                Traceback (most recent call last)",
      "Cell \u001b[0;32mIn[7], line 4\u001b[0m\n\u001b[1;32m      2\u001b[0m \u001b[38;5;28mprint\u001b[39m(inputnum)\n\u001b[1;32m      3\u001b[0m \u001b[38;5;66;03m#but we can make it type sake by ,\u001b[39;00m\n\u001b[0;32m----> 4\u001b[0m inputnumint \u001b[38;5;241m=\u001b[39m \u001b[38;5;28;43mint\u001b[39;49m\u001b[43m(\u001b[49m\u001b[38;5;28;43minput\u001b[39;49m\u001b[43m(\u001b[49m\u001b[38;5;124;43m\"\u001b[39;49m\u001b[38;5;124;43menter int num\u001b[39;49m\u001b[38;5;124;43m\"\u001b[39;49m\u001b[43m)\u001b[49m\u001b[43m)\u001b[49m\n\u001b[1;32m      5\u001b[0m \u001b[38;5;28mprint\u001b[39m(inputnumint)\n",
      "\u001b[0;31mValueError\u001b[0m: invalid literal for int() with base 10: '3d'"
     ]
    }
   ],
   "source": [
    "inputnum = (input(\"enter number\"))\n",
    "print(inputnum)\n",
    "#but we can make it type sake by ,\n",
    "inputnumint = int(input(\"enter int num\"))\n",
    "print(inputnumint)\n",
    "#entering anything other than int will give valueerror"
   ]
  },
  {
   "cell_type": "code",
   "execution_count": 18,
   "metadata": {},
   "outputs": [
    {
     "name": "stdout",
     "output_type": "stream",
     "text": [
      "9 is your roll no\n",
      "done saving\n"
     ]
    }
   ],
   "source": [
    "#exception handling\n",
    "try:\n",
    "   inputnewnum = int(input(\"enter rollnum : \"))\n",
    "except ValueError:\n",
    "   print(\"enter between 0 to 9\")\n",
    "else:\n",
    "   print(str(inputnewnum)+\" is your roll no\")\n",
    "finally:\n",
    "   print(\"done saving\")\n",
    "\n",
    "#here else is executed for only when no exception , \n",
    "#but finally when their is exception and no exception too ,both times"
   ]
  },
  {
   "cell_type": "code",
   "execution_count": 2,
   "metadata": {},
   "outputs": [],
   "source": [
    "#class and objects\n",
    "class circle:\n",
    "    \n",
    "    def __init__ (self,radius,color):\n",
    "       #here self indicates newly created obj of class\n",
    "    \n",
    "       self.radius = radius\n",
    "       self.color = color\n",
    "    \n",
    "    def getradius(self):\n",
    "        return self.radius"
   ]
  },
  {
   "cell_type": "code",
   "execution_count": 6,
   "metadata": {},
   "outputs": [
    {
     "name": "stdout",
     "output_type": "stream",
     "text": [
      "3\n",
      "black\n",
      "3\n",
      "5\n",
      "5\n",
      "5\n"
     ]
    }
   ],
   "source": [
    "c = circle(3,\"black\")\n",
    "print(c.radius)\n",
    "print(c.color)\n",
    "d= c\n",
    "print(d.radius)\n",
    "c.radius = 5\n",
    "print(c.radius)\n",
    "print(d.radius)\n",
    "d = c.getradius()\n",
    "print(d)"
   ]
  },
  {
   "cell_type": "code",
   "execution_count": 16,
   "metadata": {},
   "outputs": [
    {
     "data": {
      "text/plain": [
       "<function TextIOWrapper.close()>"
      ]
     },
     "execution_count": 16,
     "metadata": {},
     "output_type": "execute_result"
    }
   ],
   "source": [
    "#file reading in python\n",
    "#simple use open function\n",
    "file1 = open(\"C:\\\\Users\\\\Hp\\\\Downloads\\\\mldlkishan1.docx\")\n",
    "file1.name\n",
    "file1.mode #r shows it is in read mode\n",
    "file1.close"
   ]
  },
  {
   "cell_type": "code",
   "execution_count": 21,
   "metadata": {},
   "outputs": [
    {
     "name": "stdout",
     "output_type": "stream",
     "text": [
      "Copyright (c) 2016, Contributors\n",
      "\n",
      "Permission to use, copy, modify, and/or distribute this software\n",
      "for any purpose with or without fee is hereby granted, provided\n",
      "that the above copyright notice and this permission notice\n",
      "appear in all copies.\n",
      "\n",
      "THE SOFTWARE IS PROVIDED \"AS IS\" AND THE AUTHOR DISCLAIMS ALL WARRANTIES\n",
      "WITH REGARD TO THIS SOFTWARE INCLUDING ALL IMPLIED WARRANTIES\n",
      "OF MERCHANTABILITY AND FITNESS. IN NO EVENT SHALL THE AUTHOR BE\n",
      "LIABLE FOR ANY SPECIAL, DIRECT, INDIRECT, OR CONSEQUENTIAL DAMAGES\n",
      "OR ANY DAMAGES WHATSOEVER RESULTING FROM LOSS OF USE, DATA OR PROFITS,\n",
      "WHETHER IN AN ACTION OF CONTRACT, NEGLIGENCE OR OTHER TORTIOUS ACTION,\n",
      "ARISING OUT OF OR IN CONNECTION WITH THE USE OR PERFORMANCE OF THIS SOFTWARE.\n",
      "\n",
      "True\n"
     ]
    }
   ],
   "source": [
    "#closing multiple files can be hard to deal\n",
    "#therefore we open it using with\n",
    "#using this automatically closes the file\n",
    "with open(\"C:\\\\Users\\\\Hp\\\\Downloads\\\\ImageScaled\\\\3dChatbot-fov_fix\\\\node_modules\\\\yargs-parser\\\\LICENSE.txt\") as docfile:\n",
    "    docfilecontent = docfile.read()\n",
    "    #read method works for text files like txt , csv etc , not doc and ppt which are binary file\n",
    "    print(docfilecontent)\n",
    "print(docfile.closed)"
   ]
  },
  {
   "cell_type": "code",
   "execution_count": 27,
   "metadata": {},
   "outputs": [
    {
     "name": "stdout",
     "output_type": "stream",
     "text": [
      "Copyright (c) 2016, Contributors\n",
      "\n",
      "\n",
      "\n",
      "Permission to use, copy, modify, and/or distribute this software\n",
      "\n",
      "for any purpose with or without fee is hereby granted, provided\n",
      "\n",
      "that the above copyright notice and this permission notice\n",
      "\n",
      "appear in all copies.\n",
      "\n",
      "\n",
      "\n",
      "THE SOFTWARE IS PROVIDED \"AS IS\" AND THE AUTHOR DISCLAIMS ALL WARRANTIES\n",
      "\n",
      "WITH REGARD TO THIS SOFTWARE INCLUDING ALL IMPLIED WARRANTIES\n",
      "\n",
      "OF MERCHANTABILITY AND FITNESS. IN NO EVENT SHALL THE AUTHOR BE\n",
      "\n",
      "LIABLE FOR ANY SPECIAL, DIRECT, INDIRECT, OR CONSEQUENTIAL DAMAGES\n",
      "\n",
      "OR ANY DAMAGES WHATSOEVER RESULTING FROM LOSS OF USE, DATA OR PROFITS,\n",
      "\n",
      "WHETHER IN AN ACTION OF CONTRACT, NEGLIGENCE OR OTHER TORTIOUS ACTION,\n",
      "\n",
      "ARISING OUT OF OR IN CONNECTION WITH THE USE OR PERFORMANCE OF THIS SOFTWARE.\n",
      "\n",
      "new readline method <built-in method readline of _io.TextIOWrapper object at 0x000002D0C2324E10>\n",
      "\n",
      "True\n"
     ]
    },
    {
     "ename": "ValueError",
     "evalue": "I/O operation on closed file.",
     "output_type": "error",
     "traceback": [
      "\u001b[31m---------------------------------------------------------------------------\u001b[39m",
      "\u001b[31mValueError\u001b[39m                                Traceback (most recent call last)",
      "\u001b[36mCell\u001b[39m\u001b[36m \u001b[39m\u001b[32mIn[27]\u001b[39m\u001b[32m, line 7\u001b[39m\n\u001b[32m      5\u001b[39m     \u001b[38;5;28mprint\u001b[39m(docfile.readline(\u001b[32m1\u001b[39m))\n\u001b[32m      6\u001b[39m \u001b[38;5;28mprint\u001b[39m(docfile.closed)\n\u001b[32m----> \u001b[39m\u001b[32m7\u001b[39m \u001b[43mdocfile\u001b[49m\u001b[43m.\u001b[49m\u001b[43mreadline\u001b[49m\u001b[43m(\u001b[49m\u001b[32;43m1\u001b[39;49m\u001b[43m)\u001b[49m\n",
      "\u001b[31mValueError\u001b[39m: I/O operation on closed file."
     ]
    }
   ],
   "source": [
    "with open(\"C:\\\\Users\\\\Hp\\\\Downloads\\\\ImageScaled\\\\3dChatbot-fov_fix\\\\node_modules\\\\yargs-parser\\\\LICENSE.txt\") as docfile:\n",
    "    for line in docfile:\n",
    "        print(line)\n",
    "    print(\"new readline method\",docfile.readline)\n",
    "    print(docfile.readline(1))\n",
    "print(docfile.closed)\n",
    "docfile.readline(1)"
   ]
  },
  {
   "cell_type": "code",
   "execution_count": 10,
   "metadata": {},
   "outputs": [
    {
     "name": "stdout",
     "output_type": "stream",
     "text": [
      "hello\n",
      "\n",
      "kishan\n",
      "\n",
      "how\n",
      "\n",
      "hello\n",
      "\n",
      "kishan\n",
      "\n",
      "how\n",
      "\n",
      "hello\n",
      "\n",
      "kishan\n",
      "\n",
      "how\n",
      "\n"
     ]
    }
   ],
   "source": [
    "with open(\"C:\\\\Users\\\\Hp\\\\Downloads\\\\Hello how are you.txt\") as textfile:\n",
    "    for line in textfile:\n",
    "        print(line)\n",
    "textfile.mode\n",
    "data = [\"hello\",\"kishan\",\"how\"]\n",
    "# \"w\" for writing in a new file - which means all is erased and then written\n",
    "# \"a\" for append - added to same file\n",
    "with open(\"C:\\\\Users\\\\Hp\\\\Downloads\\\\Hello how are you.txt\",\"a\") as textfile:\n",
    "    for line in data:\n",
    "      currline = line + \"\\n\"\n",
    "      textfile.write(currline)\n",
    "textfile.mode\n",
    "with open(\"C:\\\\Users\\\\Hp\\\\Downloads\\\\Hello how are you.txt\") as textfile:\n",
    "    for line in textfile:\n",
    "        print(line)"
   ]
  },
  {
   "cell_type": "code",
   "execution_count": 3,
   "metadata": {},
   "outputs": [
    {
     "name": "stdout",
     "output_type": "stream",
     "text": [
      "Collecting pandas\n",
      "  Using cached pandas-2.2.3-cp312-cp312-macosx_11_0_arm64.whl.metadata (89 kB)\n",
      "Collecting numpy>=1.26.0 (from pandas)\n",
      "  Downloading numpy-2.2.4-cp312-cp312-macosx_14_0_arm64.whl.metadata (62 kB)\n",
      "Requirement already satisfied: python-dateutil>=2.8.2 in /Users/kishanchaudhary/Library/Python/3.12/lib/python/site-packages (from pandas) (2.9.0.post0)\n",
      "Collecting pytz>=2020.1 (from pandas)\n",
      "  Downloading pytz-2025.2-py2.py3-none-any.whl.metadata (22 kB)\n",
      "Collecting tzdata>=2022.7 (from pandas)\n",
      "  Downloading tzdata-2025.2-py2.py3-none-any.whl.metadata (1.4 kB)\n",
      "Requirement already satisfied: six>=1.5 in /Users/kishanchaudhary/Library/Python/3.12/lib/python/site-packages (from python-dateutil>=2.8.2->pandas) (1.17.0)\n",
      "Using cached pandas-2.2.3-cp312-cp312-macosx_11_0_arm64.whl (11.4 MB)\n",
      "Downloading numpy-2.2.4-cp312-cp312-macosx_14_0_arm64.whl (5.2 MB)\n",
      "\u001b[2K   \u001b[90m━━━━━━━━━━━━━━━━━━━━━━━━━━━━━━━━━━━━━━━━\u001b[0m \u001b[32m5.2/5.2 MB\u001b[0m \u001b[31m6.4 MB/s\u001b[0m eta \u001b[36m0:00:00\u001b[0ma \u001b[36m0:00:01\u001b[0m\n",
      "\u001b[?25hDownloading pytz-2025.2-py2.py3-none-any.whl (509 kB)\n",
      "Downloading tzdata-2025.2-py2.py3-none-any.whl (347 kB)\n",
      "Installing collected packages: pytz, tzdata, numpy, pandas\n",
      "Successfully installed numpy-2.2.4 pandas-2.2.3 pytz-2025.2 tzdata-2025.2\n",
      "\n",
      "\u001b[1m[\u001b[0m\u001b[34;49mnotice\u001b[0m\u001b[1;39;49m]\u001b[0m\u001b[39;49m A new release of pip is available: \u001b[0m\u001b[31;49m24.3.1\u001b[0m\u001b[39;49m -> \u001b[0m\u001b[32;49m25.0.1\u001b[0m\n",
      "\u001b[1m[\u001b[0m\u001b[34;49mnotice\u001b[0m\u001b[1;39;49m]\u001b[0m\u001b[39;49m To update, run: \u001b[0m\u001b[32;49mpip3 install --upgrade pip\u001b[0m\n",
      "Note: you may need to restart the kernel to use updated packages.\n"
     ]
    }
   ],
   "source": [
    "pip install pandas"
   ]
  },
  {
   "cell_type": "code",
   "execution_count": 10,
   "metadata": {},
   "outputs": [
    {
     "name": "stdout",
     "output_type": "stream",
     "text": [
      "   year industry_code_ANZSIC               industry_name_ANZSIC rme_size_grp  \\\n",
      "0  2011                    A  Agriculture, Forestry and Fishing          a_0   \n",
      "1  2011                    A  Agriculture, Forestry and Fishing          a_0   \n",
      "2  2011                    A  Agriculture, Forestry and Fishing          a_0   \n",
      "3  2011                    A  Agriculture, Forestry and Fishing          a_0   \n",
      "4  2011                    A  Agriculture, Forestry and Fishing          a_0   \n",
      "\n",
      "                                          variable  value               unit  \n",
      "0                                    Activity unit  46134              COUNT  \n",
      "1                           Rolling mean employees      0              COUNT  \n",
      "2                          Salaries and wages paid    279  DOLLARS(millions)  \n",
      "3  Sales, government funding, grants and subsidies   8187  DOLLARS(millions)  \n",
      "4                                     Total income   8866  DOLLARS(millions)  \n"
     ]
    }
   ],
   "source": [
    "import pandas as pd\n",
    "\n",
    "csv_path = '//Users//kishanchaudhary//Downloads//annual-enterprise-survey-2023-financial-year-provisional-size-bands.csv'\n",
    "df = pd.read_csv(csv_path)\n",
    "print(df.head())\n",
    "# df[0:10]\n"
   ]
  },
  {
   "cell_type": "code",
   "execution_count": null,
   "metadata": {},
   "outputs": [
    {
     "name": "stdout",
     "output_type": "stream",
     "text": [
      "     name  age\n",
      "0  kishan    1\n",
      "1     jay    2\n",
      "   age\n",
      "0    1\n",
      "1    2\n",
      "kishan\n",
      "kishan\n"
     ]
    }
   ],
   "source": [
    "#df is a dataframe which concsits of row and colums\n",
    "#we can make a df from a list of dictonaries\n",
    "dct = [\n",
    "    {\n",
    "      'name':'kishan',\n",
    "      'age':1\n",
    "    },\n",
    "    {\n",
    "       'name':'jay',\n",
    "       'age':2\n",
    "    }\n",
    "]\n",
    "df2 = pd.DataFrame(dct)\n",
    "print(df2)\n",
    "df3 = df2[['age']]\n",
    "print(df3)\n",
    "#accesing elements like a matrix using iloc\n",
    "print(df2.iloc[0,0])\n",
    "#accesing elemnts from row number and column name using loc\n",
    "print(df2.loc[0,'name'])\n"
   ]
  },
  {
   "cell_type": "code",
   "execution_count": 22,
   "metadata": {},
   "outputs": [
    {
     "data": {
      "text/html": [
       "<div>\n",
       "<style scoped>\n",
       "    .dataframe tbody tr th:only-of-type {\n",
       "        vertical-align: middle;\n",
       "    }\n",
       "\n",
       "    .dataframe tbody tr th {\n",
       "        vertical-align: top;\n",
       "    }\n",
       "\n",
       "    .dataframe thead th {\n",
       "        text-align: right;\n",
       "    }\n",
       "</style>\n",
       "<table border=\"1\" class=\"dataframe\">\n",
       "  <thead>\n",
       "    <tr style=\"text-align: right;\">\n",
       "      <th></th>\n",
       "      <th>year</th>\n",
       "      <th>industry_code_ANZSIC</th>\n",
       "      <th>industry_name_ANZSIC</th>\n",
       "    </tr>\n",
       "  </thead>\n",
       "  <tbody>\n",
       "    <tr>\n",
       "      <th>0</th>\n",
       "      <td>2011</td>\n",
       "      <td>A</td>\n",
       "      <td>Agriculture, Forestry and Fishing</td>\n",
       "    </tr>\n",
       "    <tr>\n",
       "      <th>1</th>\n",
       "      <td>2011</td>\n",
       "      <td>A</td>\n",
       "      <td>Agriculture, Forestry and Fishing</td>\n",
       "    </tr>\n",
       "  </tbody>\n",
       "</table>\n",
       "</div>"
      ],
      "text/plain": [
       "   year industry_code_ANZSIC               industry_name_ANZSIC\n",
       "0  2011                    A  Agriculture, Forestry and Fishing\n",
       "1  2011                    A  Agriculture, Forestry and Fishing"
      ]
     },
     "execution_count": 22,
     "metadata": {},
     "output_type": "execute_result"
    }
   ],
   "source": [
    "#slicing dataframes as new dataframes\n",
    "sliceddf = df.iloc[0:2,0:3]\n",
    "sliceddf"
   ]
  },
  {
   "cell_type": "code",
   "execution_count": 23,
   "metadata": {},
   "outputs": [
    {
     "data": {
      "text/plain": [
       "array([2011, 2012, 2013, 2014, 2015, 2016, 2017, 2018, 2019, 2020, 2021,\n",
       "       2022, 2023])"
      ]
     },
     "execution_count": 23,
     "metadata": {},
     "output_type": "execute_result"
    }
   ],
   "source": [
    "#unique elements in a col using unique method\n",
    "df['year'].unique()"
   ]
  },
  {
   "cell_type": "code",
   "execution_count": null,
   "metadata": {},
   "outputs": [
    {
     "data": {
      "text/html": [
       "<div>\n",
       "<style scoped>\n",
       "    .dataframe tbody tr th:only-of-type {\n",
       "        vertical-align: middle;\n",
       "    }\n",
       "\n",
       "    .dataframe tbody tr th {\n",
       "        vertical-align: top;\n",
       "    }\n",
       "\n",
       "    .dataframe thead th {\n",
       "        text-align: right;\n",
       "    }\n",
       "</style>\n",
       "<table border=\"1\" class=\"dataframe\">\n",
       "  <thead>\n",
       "    <tr style=\"text-align: right;\">\n",
       "      <th></th>\n",
       "      <th>year</th>\n",
       "      <th>industry_code_ANZSIC</th>\n",
       "      <th>industry_name_ANZSIC</th>\n",
       "      <th>rme_size_grp</th>\n",
       "      <th>variable</th>\n",
       "      <th>value</th>\n",
       "      <th>unit</th>\n",
       "    </tr>\n",
       "  </thead>\n",
       "  <tbody>\n",
       "    <tr>\n",
       "      <th>0</th>\n",
       "      <td>2011</td>\n",
       "      <td>A</td>\n",
       "      <td>Agriculture, Forestry and Fishing</td>\n",
       "      <td>a_0</td>\n",
       "      <td>Activity unit</td>\n",
       "      <td>46134</td>\n",
       "      <td>COUNT</td>\n",
       "    </tr>\n",
       "    <tr>\n",
       "      <th>1</th>\n",
       "      <td>2011</td>\n",
       "      <td>A</td>\n",
       "      <td>Agriculture, Forestry and Fishing</td>\n",
       "      <td>a_0</td>\n",
       "      <td>Rolling mean employees</td>\n",
       "      <td>0</td>\n",
       "      <td>COUNT</td>\n",
       "    </tr>\n",
       "    <tr>\n",
       "      <th>2</th>\n",
       "      <td>2011</td>\n",
       "      <td>A</td>\n",
       "      <td>Agriculture, Forestry and Fishing</td>\n",
       "      <td>a_0</td>\n",
       "      <td>Salaries and wages paid</td>\n",
       "      <td>279</td>\n",
       "      <td>DOLLARS(millions)</td>\n",
       "    </tr>\n",
       "    <tr>\n",
       "      <th>3</th>\n",
       "      <td>2011</td>\n",
       "      <td>A</td>\n",
       "      <td>Agriculture, Forestry and Fishing</td>\n",
       "      <td>a_0</td>\n",
       "      <td>Sales, government funding, grants and subsidies</td>\n",
       "      <td>8187</td>\n",
       "      <td>DOLLARS(millions)</td>\n",
       "    </tr>\n",
       "    <tr>\n",
       "      <th>4</th>\n",
       "      <td>2011</td>\n",
       "      <td>A</td>\n",
       "      <td>Agriculture, Forestry and Fishing</td>\n",
       "      <td>a_0</td>\n",
       "      <td>Total income</td>\n",
       "      <td>8866</td>\n",
       "      <td>DOLLARS(millions)</td>\n",
       "    </tr>\n",
       "    <tr>\n",
       "      <th>...</th>\n",
       "      <td>...</td>\n",
       "      <td>...</td>\n",
       "      <td>...</td>\n",
       "      <td>...</td>\n",
       "      <td>...</td>\n",
       "      <td>...</td>\n",
       "      <td>...</td>\n",
       "    </tr>\n",
       "    <tr>\n",
       "      <th>1543</th>\n",
       "      <td>2011</td>\n",
       "      <td>all</td>\n",
       "      <td>All Industries</td>\n",
       "      <td>j_Grand_Total</td>\n",
       "      <td>Total income</td>\n",
       "      <td>510905</td>\n",
       "      <td>DOLLARS(millions)</td>\n",
       "    </tr>\n",
       "    <tr>\n",
       "      <th>1544</th>\n",
       "      <td>2011</td>\n",
       "      <td>all</td>\n",
       "      <td>All Industries</td>\n",
       "      <td>j_Grand_Total</td>\n",
       "      <td>Total expenditure</td>\n",
       "      <td>468838</td>\n",
       "      <td>DOLLARS(millions)</td>\n",
       "    </tr>\n",
       "    <tr>\n",
       "      <th>1545</th>\n",
       "      <td>2011</td>\n",
       "      <td>all</td>\n",
       "      <td>All Industries</td>\n",
       "      <td>j_Grand_Total</td>\n",
       "      <td>Operating profit before tax</td>\n",
       "      <td>46348</td>\n",
       "      <td>DOLLARS(millions)</td>\n",
       "    </tr>\n",
       "    <tr>\n",
       "      <th>1546</th>\n",
       "      <td>2011</td>\n",
       "      <td>all</td>\n",
       "      <td>All Industries</td>\n",
       "      <td>j_Grand_Total</td>\n",
       "      <td>Total assets</td>\n",
       "      <td>1662320</td>\n",
       "      <td>DOLLARS(millions)</td>\n",
       "    </tr>\n",
       "    <tr>\n",
       "      <th>1547</th>\n",
       "      <td>2011</td>\n",
       "      <td>all</td>\n",
       "      <td>All Industries</td>\n",
       "      <td>j_Grand_Total</td>\n",
       "      <td>Fixed tangible assets</td>\n",
       "      <td>366725</td>\n",
       "      <td>DOLLARS(millions)</td>\n",
       "    </tr>\n",
       "  </tbody>\n",
       "</table>\n",
       "<p>1548 rows × 7 columns</p>\n",
       "</div>"
      ],
      "text/plain": [
       "      year industry_code_ANZSIC               industry_name_ANZSIC  \\\n",
       "0     2011                    A  Agriculture, Forestry and Fishing   \n",
       "1     2011                    A  Agriculture, Forestry and Fishing   \n",
       "2     2011                    A  Agriculture, Forestry and Fishing   \n",
       "3     2011                    A  Agriculture, Forestry and Fishing   \n",
       "4     2011                    A  Agriculture, Forestry and Fishing   \n",
       "...    ...                  ...                                ...   \n",
       "1543  2011                  all                     All Industries   \n",
       "1544  2011                  all                     All Industries   \n",
       "1545  2011                  all                     All Industries   \n",
       "1546  2011                  all                     All Industries   \n",
       "1547  2011                  all                     All Industries   \n",
       "\n",
       "       rme_size_grp                                         variable    value  \\\n",
       "0               a_0                                    Activity unit    46134   \n",
       "1               a_0                           Rolling mean employees        0   \n",
       "2               a_0                          Salaries and wages paid      279   \n",
       "3               a_0  Sales, government funding, grants and subsidies     8187   \n",
       "4               a_0                                     Total income     8866   \n",
       "...             ...                                              ...      ...   \n",
       "1543  j_Grand_Total                                     Total income   510905   \n",
       "1544  j_Grand_Total                                Total expenditure   468838   \n",
       "1545  j_Grand_Total                      Operating profit before tax    46348   \n",
       "1546  j_Grand_Total                                     Total assets  1662320   \n",
       "1547  j_Grand_Total                            Fixed tangible assets   366725   \n",
       "\n",
       "                   unit  \n",
       "0                 COUNT  \n",
       "1                 COUNT  \n",
       "2     DOLLARS(millions)  \n",
       "3     DOLLARS(millions)  \n",
       "4     DOLLARS(millions)  \n",
       "...                 ...  \n",
       "1543  DOLLARS(millions)  \n",
       "1544  DOLLARS(millions)  \n",
       "1545  DOLLARS(millions)  \n",
       "1546  DOLLARS(millions)  \n",
       "1547  DOLLARS(millions)  \n",
       "\n",
       "[1548 rows x 7 columns]"
      ]
     },
     "execution_count": 25,
     "metadata": {},
     "output_type": "execute_result"
    }
   ],
   "source": [
    "#creating dfs using conditions\n",
    "equaldf = df[df['year']==2011]\n",
    "equaldf\n",
    "#we can use >,<,! here"
   ]
  },
  {
   "cell_type": "code",
   "execution_count": null,
   "metadata": {},
   "outputs": [],
   "source": [
    "#saving df in a csv file\n",
    "#df.to_csv('nameofcsv.csv)"
   ]
  },
  {
   "cell_type": "markdown",
   "metadata": {},
   "source": [
    "Pandas library  used for data visualisation , data storage using dataframes and series(to be done).\n",
    "Numpy is a library for dealing with arrays in python ,it has functions for array like linear algebra, fourier trnasoforms, matrices."
   ]
  },
  {
   "cell_type": "code",
   "execution_count": 9,
   "metadata": {},
   "outputs": [
    {
     "name": "stdout",
     "output_type": "stream",
     "text": [
      "1\n"
     ]
    }
   ],
   "source": [
    "import numpy as np\n",
    "a=np.array([1,2,\"h\",3,4,5])\n",
    "print(a[0])"
   ]
  },
  {
   "cell_type": "code",
   "execution_count": null,
   "metadata": {
    "vscode": {
     "languageId": "markdown"
    }
   },
   "outputs": [],
   "source": [
    "In NumPy, the type `<U21` refers to a Unicode string data type. Here's a breakdown:\n",
    "\n",
    "- `<`: Indicates the byte order (little-endian in this case, which is typical for most systems).\n",
    "- `U`: Indicates that the data type is a Unicode string.\n",
    "- `21`: Specifies the maximum number of Unicode characters that each element in the array can hold.\n",
    "\n",
    "So, `<U21` means that each element in the NumPy array is a Unicode string with a maximum length of 21 characters."
   ]
  },
  {
   "cell_type": "code",
   "execution_count": null,
   "metadata": {},
   "outputs": [
    {
     "name": "stdout",
     "output_type": "stream",
     "text": [
      "array size  6\n",
      "array dimension  1\n",
      "array shape  (6,)\n",
      "type  <U21\n"
     ]
    }
   ],
   "source": [
    "#numpy array methods\n",
    "print(\"array size \",a.size)\n",
    "print(\"array dimension \",a.ndim)\n",
    "print(\"array shape \",a.shape)\n",
    "print(\"type \",a.dtype)\n",
    "# slicing and indexing remains same as tuple\n"
   ]
  },
  {
   "cell_type": "code",
   "execution_count": null,
   "metadata": {},
   "outputs": [
    {
     "name": "stdout",
     "output_type": "stream",
     "text": [
      "[200 300 300   4   5]\n"
     ]
    }
   ],
   "source": [
    "#changing multiple elements in numpy array\n",
    "b = np.array([1,2,3,4,5])\n",
    "b[0:3] = 200,300,300\n",
    "print(b)"
   ]
  },
  {
   "cell_type": "code",
   "execution_count": null,
   "metadata": {},
   "outputs": [
    {
     "name": "stdout",
     "output_type": "stream",
     "text": [
      "[5 7 9]\n",
      "[5 7 9]\n"
     ]
    }
   ],
   "source": [
    "#vector operations\n",
    "#addition\n",
    "u = np.array([1,2,3])\n",
    "v = np.array([4,5,6])\n",
    "z = u+v\n",
    "print(z)\n",
    "#we can also do but it is lengthy without numpy using zip\n",
    "y = []\n",
    "for n,m in zip(u,v):\n",
    "    y.append(n+m)\n",
    "y=np.array(y)\n",
    "print(y)\n",
    "#same for subraction and scalar multiplication 2*y"
   ]
  },
  {
   "cell_type": "code",
   "execution_count": 24,
   "metadata": {},
   "outputs": [
    {
     "name": "stdout",
     "output_type": "stream",
     "text": [
      "[ 4 10 18]\n",
      "32\n",
      "[3 4 5]\n"
     ]
    }
   ],
   "source": [
    "#hadamard product\n",
    "p1 = u*v\n",
    "print(p1)\n",
    "#dot product\n",
    "p2 = np.dot(u,v)\n",
    "print(p2)\n",
    "#adding a constant to all elements\n",
    "p3 = u+2\n",
    "print(p3)"
   ]
  },
  {
   "cell_type": "code",
   "execution_count": 26,
   "metadata": {},
   "outputs": [
    {
     "name": "stdout",
     "output_type": "stream",
     "text": [
      "Collecting matplotlib\n",
      "  Downloading matplotlib-3.10.1-cp312-cp312-macosx_11_0_arm64.whl.metadata (11 kB)\n",
      "Collecting contourpy>=1.0.1 (from matplotlib)\n",
      "  Downloading contourpy-1.3.1-cp312-cp312-macosx_11_0_arm64.whl.metadata (5.4 kB)\n",
      "Collecting cycler>=0.10 (from matplotlib)\n",
      "  Downloading cycler-0.12.1-py3-none-any.whl.metadata (3.8 kB)\n",
      "Collecting fonttools>=4.22.0 (from matplotlib)\n",
      "  Downloading fonttools-4.57.0-cp312-cp312-macosx_10_13_universal2.whl.metadata (102 kB)\n",
      "Collecting kiwisolver>=1.3.1 (from matplotlib)\n",
      "  Downloading kiwisolver-1.4.8-cp312-cp312-macosx_11_0_arm64.whl.metadata (6.2 kB)\n",
      "Requirement already satisfied: numpy>=1.23 in /Library/Frameworks/Python.framework/Versions/3.12/lib/python3.12/site-packages (from matplotlib) (2.2.4)\n",
      "Requirement already satisfied: packaging>=20.0 in /Users/kishanchaudhary/Library/Python/3.12/lib/python/site-packages (from matplotlib) (24.2)\n",
      "Collecting pillow>=8 (from matplotlib)\n",
      "  Downloading pillow-11.1.0-cp312-cp312-macosx_11_0_arm64.whl.metadata (9.1 kB)\n",
      "Collecting pyparsing>=2.3.1 (from matplotlib)\n",
      "  Downloading pyparsing-3.2.3-py3-none-any.whl.metadata (5.0 kB)\n",
      "Requirement already satisfied: python-dateutil>=2.7 in /Users/kishanchaudhary/Library/Python/3.12/lib/python/site-packages (from matplotlib) (2.9.0.post0)\n",
      "Requirement already satisfied: six>=1.5 in /Users/kishanchaudhary/Library/Python/3.12/lib/python/site-packages (from python-dateutil>=2.7->matplotlib) (1.17.0)\n",
      "Downloading matplotlib-3.10.1-cp312-cp312-macosx_11_0_arm64.whl (8.0 MB)\n",
      "\u001b[2K   \u001b[90m━━━━━━━━━━━━━━━━━━━━━━━━━━━━━━━━━━━━━━━━\u001b[0m \u001b[32m8.0/8.0 MB\u001b[0m \u001b[31m6.1 MB/s\u001b[0m eta \u001b[36m0:00:00\u001b[0ma \u001b[36m0:00:01\u001b[0m\n",
      "\u001b[?25hDownloading contourpy-1.3.1-cp312-cp312-macosx_11_0_arm64.whl (255 kB)\n",
      "Downloading cycler-0.12.1-py3-none-any.whl (8.3 kB)\n",
      "Downloading fonttools-4.57.0-cp312-cp312-macosx_10_13_universal2.whl (2.8 MB)\n",
      "\u001b[2K   \u001b[90m━━━━━━━━━━━━━━━━━━━━━━━━━━━━━━━━━━━━━━━━\u001b[0m \u001b[32m2.8/2.8 MB\u001b[0m \u001b[31m6.5 MB/s\u001b[0m eta \u001b[36m0:00:00\u001b[0ma \u001b[36m0:00:01\u001b[0m\n",
      "\u001b[?25hDownloading kiwisolver-1.4.8-cp312-cp312-macosx_11_0_arm64.whl (65 kB)\n",
      "Downloading pillow-11.1.0-cp312-cp312-macosx_11_0_arm64.whl (3.1 MB)\n",
      "\u001b[2K   \u001b[90m━━━━━━━━━━━━━━━━━━━━━━━━━━━━━━━━━━━━━━━━\u001b[0m \u001b[32m3.1/3.1 MB\u001b[0m \u001b[31m6.3 MB/s\u001b[0m eta \u001b[36m0:00:00\u001b[0ma \u001b[36m0:00:01\u001b[0m\n",
      "\u001b[?25hDownloading pyparsing-3.2.3-py3-none-any.whl (111 kB)\n",
      "Installing collected packages: pyparsing, pillow, kiwisolver, fonttools, cycler, contourpy, matplotlib\n",
      "Successfully installed contourpy-1.3.1 cycler-0.12.1 fonttools-4.57.0 kiwisolver-1.4.8 matplotlib-3.10.1 pillow-11.1.0 pyparsing-3.2.3\n",
      "\n",
      "\u001b[1m[\u001b[0m\u001b[34;49mnotice\u001b[0m\u001b[1;39;49m]\u001b[0m\u001b[39;49m A new release of pip is available: \u001b[0m\u001b[31;49m24.3.1\u001b[0m\u001b[39;49m -> \u001b[0m\u001b[32;49m25.0.1\u001b[0m\n",
      "\u001b[1m[\u001b[0m\u001b[34;49mnotice\u001b[0m\u001b[1;39;49m]\u001b[0m\u001b[39;49m To update, run: \u001b[0m\u001b[32;49mpip3 install --upgrade pip\u001b[0m\n",
      "Note: you may need to restart the kernel to use updated packages.\n"
     ]
    }
   ],
   "source": [
    "pip install matplotlib"
   ]
  },
  {
   "cell_type": "code",
   "execution_count": 29,
   "metadata": {},
   "outputs": [
    {
     "data": {
      "text/plain": [
       "[<matplotlib.lines.Line2D at 0x110401a00>]"
      ]
     },
     "execution_count": 29,
     "metadata": {},
     "output_type": "execute_result"
    },
    {
     "data": {
      "image/png": "[encoded data removed]",
      "text/plain": [
       "<Figure size 640x480 with 1 Axes>"
      ]
     },
     "metadata": {},
     "output_type": "display_data"
    }
   ],
   "source": [
    "#matplotlib\n",
    "import matplotlib.pyplot as plt\n",
    "plt.plot(p1,p3)"
   ]
  },
  {
   "cell_type": "code",
   "execution_count": null,
   "metadata": {},
   "outputs": [],
   "source": [
    "#multidimensional arrays\n"
   ]
  },
  {
   "cell_type": "code",
   "execution_count": null,
   "metadata": {},
   "outputs": [],
   "source": []
  }
 ],
 "metadata": {
  "kernelspec": {
   "display_name": "Python 3",
   "language": "python",
   "name": "python3"
  },
  "language_info": {
   "codemirror_mode": {
    "name": "ipython",
    "version": 3
   },
   "file_extension": ".py",
   "mimetype": "text/x-python",
   "name": "python",
   "nbconvert_exporter": "python",
   "pygments_lexer": "ipython3",
   "version": "3.12.8"
  }
 },
 "nbformat": 4,
 "nbformat_minor": 2
}
