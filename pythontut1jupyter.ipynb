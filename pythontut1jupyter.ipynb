{
 "cells": [
  {
   "cell_type": "code",
   "execution_count": 19,
   "metadata": {},
   "outputs": [
    {
     "name": "stdout",
     "output_type": "stream",
     "text": [
      "<class 'int'>\n",
      "<class 'str'>\n",
      "<class 'float'>\n",
      "<class 'bool'>\n"
     ]
    }
   ],
   "source": [
    "#types\n",
    "a = 10\n",
    "b = \"kishan\"\n",
    "c = 1.2\n",
    "g = True\n",
    "print(type(a))\n",
    "print(type(b))\n",
    "print(type(c))\n",
    "print(type(g))"
   ]
  },
  {
   "cell_type": "code",
   "execution_count": 1,
   "metadata": {},
   "outputs": [
    {
     "name": "stdout",
     "output_type": "stream",
     "text": [
      "1\n",
      "123.5\n"
     ]
    }
   ],
   "source": [
    "#typeconverter\n",
    "d  =1.7\n",
    "print(int(d))\n",
    "e = \"123.5\"\n",
    "print(float(e))"
   ]
  },
  {
   "cell_type": "code",
   "execution_count": null,
   "metadata": {},
   "outputs": [
    {
     "name": "stdout",
     "output_type": "stream",
     "text": [
      "1.3333333333333333\n",
      "1\n"
     ]
    }
   ],
   "source": [
    "#operators\n",
    "h = 4/3\n",
    "print(h)\n",
    "i = 4//3\n",
    "print(i)"
   ]
  },
  {
   "cell_type": "code",
   "execution_count": 43,
   "metadata": {},
   "outputs": [
    {
     "name": "stdout",
     "output_type": "stream",
     "text": [
      "k\n",
      "k\n",
      "ksa huhr\n",
      "kisha\n",
      "ksa\n",
      "6\n",
      "final name = kishankishan chaudhary\n",
      "kishankishankishan\n",
      "kishan\tchaudhary\n",
      "kishan\\tchaudhary\n",
      "kishan\\tchaudhary\n",
      "2\n"
     ]
    }
   ],
   "source": [
    "#string\n",
    "j = \"kishan\"\n",
    "print(j[0])\n",
    "#negative indexing in python for string\n",
    "# k  i  s  h  a  n\n",
    "#-1 -2 -3 -4 -5 -6\n",
    "print(j[-6])\n",
    "k = \"kishan chaudhary\"\n",
    "#slicing in string\n",
    "print(k[::2])\n",
    "#picking every 2 elements in str\n",
    "print(k[0:5])\n",
    "#picking first 5\n",
    "print(k[0:5:2])\n",
    "#picking every 2 until 5th ele\n",
    "\n",
    "\n",
    "print(len(j))\n",
    "print(\"final name = \"+ j + k)\n",
    "#multiply of string\n",
    "l = 3 *j\n",
    "print(l)\n",
    "\n",
    "m = \"kishan\\tchaudhary\"\n",
    "print(m)\n",
    "n = \"kishan\\\\tchaudhary\"\n",
    "print(n)\n",
    "o = r\"kishan\\tchaudhary\"\n",
    "print(o)\n",
    "\n",
    "p = str(1+1)\n",
    "print(p)\n"
   ]
  },
  {
   "cell_type": "code",
   "execution_count": 10,
   "metadata": {},
   "outputs": [
    {
     "name": "stdout",
     "output_type": "stream",
     "text": [
      "<class 'tuple'>\n",
      "tp length = 2\n"
     ]
    }
   ],
   "source": [
    "#tuple\n",
    "tp = (\"kishan\",3)\n",
    "print(type(tp))\n",
    "tp[0]\n",
    "tp[1]\n",
    "tp[0:2]\n",
    "#same negative works here too\n",
    "\n",
    "tp[-1]\n",
    "\n",
    "print(\"tp length = \"+str(len(tp)))"
   ]
  },
  {
   "cell_type": "code",
   "execution_count": 3,
   "metadata": {},
   "outputs": [
    {
     "name": "stdout",
     "output_type": "stream",
     "text": [
      "(2, 3)\n",
      "(2, 3)\n"
     ]
    },
    {
     "ename": "TypeError",
     "evalue": "'tuple' object does not support item assignment",
     "output_type": "error",
     "traceback": [
      "\u001b[31m---------------------------------------------------------------------------\u001b[39m",
      "\u001b[31mTypeError\u001b[39m                                 Traceback (most recent call last)",
      "\u001b[36mCell\u001b[39m\u001b[36m \u001b[39m\u001b[32mIn[3]\u001b[39m\u001b[32m, line 6\u001b[39m\n\u001b[32m      4\u001b[39m tp2 = tp1\n\u001b[32m      5\u001b[39m \u001b[38;5;28mprint\u001b[39m(tp2[\u001b[32m0\u001b[39m:\u001b[32m2\u001b[39m])\n\u001b[32m----> \u001b[39m\u001b[32m6\u001b[39m \u001b[43mtp1\u001b[49m\u001b[43m[\u001b[49m\u001b[32;43m0\u001b[39;49m\u001b[43m]\u001b[49m = \u001b[32m5\u001b[39m \u001b[38;5;66;03m#this gives error\u001b[39;00m\n\u001b[32m      7\u001b[39m \u001b[38;5;28mprint\u001b[39m(tp1[\u001b[32m0\u001b[39m:\u001b[32m2\u001b[39m])\n\u001b[32m      8\u001b[39m \u001b[38;5;28mprint\u001b[39m(tp2[\u001b[32m0\u001b[39m:\u001b[32m2\u001b[39m])\n",
      "\u001b[31mTypeError\u001b[39m: 'tuple' object does not support item assignment"
     ]
    }
   ],
   "source": [
    "#tuples are uimmutable same as string\n",
    "tp1 = (2,3)\n",
    "print(tp1[0:2])\n",
    "tp2 = tp1\n",
    "print(tp2[0:2])\n",
    "tp1[0] = 5 #this gives error\n",
    "print(tp1[0:2])\n",
    "print(tp2[0:2])\n"
   ]
  },
  {
   "cell_type": "code",
   "execution_count": 20,
   "metadata": {},
   "outputs": [
    {
     "name": "stdout",
     "output_type": "stream",
     "text": [
      "(5, 3)\n"
     ]
    }
   ],
   "source": [
    "#therefore create a new tuple always if we want to change\n",
    "tp3 = (5,)+( tp1[1:2])\n",
    "print(tp3[0:2])"
   ]
  },
  {
   "cell_type": "code",
   "execution_count": 25,
   "metadata": {},
   "outputs": [
    {
     "name": "stdout",
     "output_type": "stream",
     "text": [
      "((2, 3), (5, 3))\n",
      "3\n",
      "(2, 3, (2, 3), (5, 3), 5, 3)\n"
     ]
    }
   ],
   "source": [
    "#nested tuples\n",
    "tp4 = (tp1,tp3)\n",
    "print(tp4[0:len(tp4)])\n",
    "print(tp4[0][1])\n",
    "#conocatination of tuples\n",
    "tp5 = tp1 + tp4 + tp3\n",
    "print(tp5[0:len(tp5)])"
   ]
  },
  {
   "cell_type": "code",
   "execution_count": 22,
   "metadata": {},
   "outputs": [
    {
     "name": "stdout",
     "output_type": "stream",
     "text": [
      "['kishan', 1, 2, 4.6]\n",
      "[0, 1, 2, 4.6]\n"
     ]
    }
   ],
   "source": [
    "#lists - muttable data structure\n",
    "#use []\n",
    "L1 = [\"kishan\", 1, 2, 4.60 ]\n",
    "print(L1[0:len(L1)])\n",
    "L1[0] = 0\n",
    "print(L1[0:len(L1)])\n",
    "#rest all same"
   ]
  },
  {
   "cell_type": "code",
   "execution_count": null,
   "metadata": {},
   "outputs": [
    {
     "name": "stdout",
     "output_type": "stream",
     "text": [
      "[0, 1, 2, 4.6, 'chaudhary', 'jay', 'king', ['abc,xyz']]\n",
      "[1, 2, 4.6, 'chaudhary', 'jay', 'king', ['abc,xyz']]\n",
      "['kishan', 'chaudhary']\n",
      "['kishan', 'jay', 'viru']\n"
     ]
    }
   ],
   "source": [
    "#list methods\n",
    "L1.extend([\"chaudhary\",\"jay\"])\n",
    "L1.append(\"king\")\n",
    "#appending is for adding one element, so if we add a list, it will add a list in list ,\n",
    "#  not the same with extend\n",
    "L1.append([\"abc,xyz\"])\n",
    "print(L1[0:len(L1)])\n",
    "del(L1[0])\n",
    "print(L1[0:len(L1)])\n",
    "name = \"kishan chaudhary\"\n",
    "# split method in python return a list spliting for a string\n",
    "l2 = name.split()\n",
    "print(l2[0:len(l2)])\n",
    "#using deliminator in split\n",
    "names = \"kishan,jay,viru\"\n",
    "l3 = names.split(\",\")\n",
    "print(l3[0:len(l3)])\n",
    "\n"
   ]
  },
  {
   "cell_type": "code",
   "execution_count": 24,
   "metadata": {},
   "outputs": [
    {
     "name": "stdout",
     "output_type": "stream",
     "text": [
      "Help on list object:\n",
      "\n",
      "class list(object)\n",
      " |  list(iterable=(), /)\n",
      " |  \n",
      " |  Built-in mutable sequence.\n",
      " |  \n",
      " |  If no argument is given, the constructor creates a new empty list.\n",
      " |  The argument must be an iterable if specified.\n",
      " |  \n",
      " |  Methods defined here:\n",
      " |  \n",
      " |  __add__(self, value, /)\n",
      " |      Return self+value.\n",
      " |  \n",
      " |  __contains__(self, key, /)\n",
      " |      Return key in self.\n",
      " |  \n",
      " |  __delitem__(self, key, /)\n",
      " |      Delete self[key].\n",
      " |  \n",
      " |  __eq__(self, value, /)\n",
      " |      Return self==value.\n",
      " |  \n",
      " |  __ge__(self, value, /)\n",
      " |      Return self>=value.\n",
      " |  \n",
      " |  __getattribute__(self, name, /)\n",
      " |      Return getattr(self, name).\n",
      " |  \n",
      " |  __getitem__(...)\n",
      " |      x.__getitem__(y) <==> x[y]\n",
      " |  \n",
      " |  __gt__(self, value, /)\n",
      " |      Return self>value.\n",
      " |  \n",
      " |  __iadd__(self, value, /)\n",
      " |      Implement self+=value.\n",
      " |  \n",
      " |  __imul__(self, value, /)\n",
      " |      Implement self*=value.\n",
      " |  \n",
      " |  __init__(self, /, *args, **kwargs)\n",
      " |      Initialize self.  See help(type(self)) for accurate signature.\n",
      " |  \n",
      " |  __iter__(self, /)\n",
      " |      Implement iter(self).\n",
      " |  \n",
      " |  __le__(self, value, /)\n",
      " |      Return self<=value.\n",
      " |  \n",
      " |  __len__(self, /)\n",
      " |      Return len(self).\n",
      " |  \n",
      " |  __lt__(self, value, /)\n",
      " |      Return self<value.\n",
      " |  \n",
      " |  __mul__(self, value, /)\n",
      " |      Return self*value.\n",
      " |  \n",
      " |  __ne__(self, value, /)\n",
      " |      Return self!=value.\n",
      " |  \n",
      " |  __repr__(self, /)\n",
      " |      Return repr(self).\n",
      " |  \n",
      " |  __reversed__(self, /)\n",
      " |      Return a reverse iterator over the list.\n",
      " |  \n",
      " |  __rmul__(self, value, /)\n",
      " |      Return value*self.\n",
      " |  \n",
      " |  __setitem__(self, key, value, /)\n",
      " |      Set self[key] to value.\n",
      " |  \n",
      " |  __sizeof__(self, /)\n",
      " |      Return the size of the list in memory, in bytes.\n",
      " |  \n",
      " |  append(self, object, /)\n",
      " |      Append object to the end of the list.\n",
      " |  \n",
      " |  clear(self, /)\n",
      " |      Remove all items from list.\n",
      " |  \n",
      " |  copy(self, /)\n",
      " |      Return a shallow copy of the list.\n",
      " |  \n",
      " |  count(self, value, /)\n",
      " |      Return number of occurrences of value.\n",
      " |  \n",
      " |  extend(self, iterable, /)\n",
      " |      Extend list by appending elements from the iterable.\n",
      " |  \n",
      " |  index(self, value, start=0, stop=9223372036854775807, /)\n",
      " |      Return first index of value.\n",
      " |      \n",
      " |      Raises ValueError if the value is not present.\n",
      " |  \n",
      " |  insert(self, index, object, /)\n",
      " |      Insert object before index.\n",
      " |  \n",
      " |  pop(self, index=-1, /)\n",
      " |      Remove and return item at index (default last).\n",
      " |      \n",
      " |      Raises IndexError if list is empty or index is out of range.\n",
      " |  \n",
      " |  remove(self, value, /)\n",
      " |      Remove first occurrence of value.\n",
      " |      \n",
      " |      Raises ValueError if the value is not present.\n",
      " |  \n",
      " |  reverse(self, /)\n",
      " |      Reverse *IN PLACE*.\n",
      " |  \n",
      " |  sort(self, /, *, key=None, reverse=False)\n",
      " |      Sort the list in ascending order and return None.\n",
      " |      \n",
      " |      The sort is in-place (i.e. the list itself is modified) and stable (i.e. the\n",
      " |      order of two equal elements is maintained).\n",
      " |      \n",
      " |      If a key function is given, apply it once to each list item and sort them,\n",
      " |      ascending or descending, according to their function values.\n",
      " |      \n",
      " |      The reverse flag can be set to sort in descending order.\n",
      " |  \n",
      " |  ----------------------------------------------------------------------\n",
      " |  Class methods defined here:\n",
      " |  \n",
      " |  __class_getitem__(...) from builtins.type\n",
      " |      See PEP 585\n",
      " |  \n",
      " |  ----------------------------------------------------------------------\n",
      " |  Static methods defined here:\n",
      " |  \n",
      " |  __new__(*args, **kwargs) from builtins.type\n",
      " |      Create and return a new object.  See help(type) for accurate signature.\n",
      " |  \n",
      " |  ----------------------------------------------------------------------\n",
      " |  Data and other attributes defined here:\n",
      " |  \n",
      " |  __hash__ = None\n",
      "\n"
     ]
    }
   ],
   "source": [
    "#imp help command in python\n",
    "help(l3)"
   ]
  },
  {
   "cell_type": "code",
   "execution_count": null,
   "metadata": {},
   "outputs": [
    {
     "data": {
      "text/plain": [
       "(2, 3, 4)"
      ]
     },
     "execution_count": 26,
     "metadata": {},
     "output_type": "execute_result"
    }
   ],
   "source": [
    "[1,2]+[1,2]\n",
    "A=(1,2,3,4,5)\n",
    "A[1:4] #this will print 2,3,4 not 2,3,4,5"
   ]
  },
  {
   "cell_type": "code",
   "execution_count": null,
   "metadata": {},
   "outputs": [
    {
     "ename": "KeyError",
     "evalue": "'key1'",
     "output_type": "error",
     "traceback": [
      "\u001b[0;31m---------------------------------------------------------------------------\u001b[0m",
      "\u001b[0;31mKeyError\u001b[0m                                  Traceback (most recent call last)",
      "Cell \u001b[0;32mIn[32], line 12\u001b[0m\n\u001b[1;32m     10\u001b[0m \u001b[38;5;28mdict\u001b[39m[\u001b[38;5;124m\"\u001b[39m\u001b[38;5;124mkey3\u001b[39m\u001b[38;5;124m\"\u001b[39m]\n\u001b[1;32m     11\u001b[0m \u001b[38;5;28;01mdel\u001b[39;00m(\u001b[38;5;28mdict\u001b[39m[\u001b[38;5;124m\"\u001b[39m\u001b[38;5;124mkey1\u001b[39m\u001b[38;5;124m\"\u001b[39m])\n\u001b[0;32m---> 12\u001b[0m \u001b[38;5;28;43mdict\u001b[39;49m\u001b[43m[\u001b[49m\u001b[38;5;124;43m\"\u001b[39;49m\u001b[38;5;124;43mkey1\u001b[39;49m\u001b[38;5;124;43m\"\u001b[39;49m\u001b[43m]\u001b[49m\n",
      "\u001b[0;31mKeyError\u001b[0m: 'key1'"
     ]
    }
   ],
   "source": [
    "#dictionaries in python\n",
    "dict = {\n",
    "    \"key1\":\"hello\",\n",
    "    \"key2\":1\n",
    "}\n",
    "dict[\"key1\"]\n",
    "dict[\"key2\"]\n",
    "#print(dict[\"key3\"]) //gives keyerror\n",
    "dict[\"key3\"]=\"king\"\n",
    "dict[\"key3\"]\n",
    "del(dict[\"key1\"])\n",
    "#dict[\"key1\"] this will give key error too"
   ]
  },
  {
   "cell_type": "code",
   "execution_count": 35,
   "metadata": {},
   "outputs": [
    {
     "name": "stdout",
     "output_type": "stream",
     "text": [
      "False\n",
      "True\n"
     ]
    }
   ],
   "source": [
    "#how to verify whether key is in dict or not without error\n",
    "#using in command\n",
    "print(\"key1\" in dict)\n",
    "print(\"key3\" in dict)"
   ]
  },
  {
   "cell_type": "code",
   "execution_count": 37,
   "metadata": {},
   "outputs": [
    {
     "data": {
      "text/plain": [
       "dict_values([1, 'king'])"
      ]
     },
     "execution_count": 37,
     "metadata": {},
     "output_type": "execute_result"
    }
   ],
   "source": [
    "#printing all keys and values\n",
    "dict.keys()\n",
    "dict.values()"
   ]
  },
  {
   "cell_type": "code",
   "execution_count": 4,
   "metadata": {},
   "outputs": [
    {
     "name": "stdout",
     "output_type": "stream",
     "text": [
      "{1, 2, 'kishan'}\n"
     ]
    }
   ],
   "source": [
    "#sets\n",
    "#use curly brackets\n",
    "set1 = {1,2,\"kishan\"}\n",
    "# print(set1[0]) this is not possible, as sets are unordered\n",
    "print(set1)"
   ]
  },
  {
   "cell_type": "code",
   "execution_count": null,
   "metadata": {},
   "outputs": [
    {
     "name": "stdout",
     "output_type": "stream",
     "text": [
      "{1, 2, 3}\n",
      "False\n"
     ]
    }
   ],
   "source": [
    "#convrting list to a set using set() typecasting function\n",
    "newl = [1,2,3,3,2,1]\n",
    "newset = set(newl)\n",
    "print(newset)\n",
    "newset.add(\"kishan\")\n",
    "#newset.remove(0) error as not found\n",
    "print(\"0\" in newset)\n",
    "#then try to delete it based on ture or false"
   ]
  },
  {
   "cell_type": "code",
   "execution_count": 14,
   "metadata": {},
   "outputs": [
    {
     "name": "stdout",
     "output_type": "stream",
     "text": [
      "{'kishan'}\n",
      "{'singh', 'kishan', 'chaudhary'}\n"
     ]
    },
    {
     "data": {
      "text/plain": [
       "True"
      ]
     },
     "execution_count": 14,
     "metadata": {},
     "output_type": "execute_result"
    }
   ],
   "source": [
    "#intersection of two sets\n",
    "set1 = {\"kishan\",\"chaudhary\"}\n",
    "set2 = {\"kishan\",\"singh\"}\n",
    "#using & operator\n",
    "print(set1 & set2)\n",
    "\n",
    "#union of two sets\n",
    "print(set1.union(set2))\n",
    "set3 = {\"kishan\"}\n",
    "set3.issubset(set1)\n"
   ]
  },
  {
   "cell_type": "code",
   "execution_count": 14,
   "metadata": {},
   "outputs": [
    {
     "name": "stdout",
     "output_type": "stream",
     "text": [
      "false\n"
     ]
    }
   ],
   "source": [
    "#if-else condition\n",
    "age = 17\n",
    "if(age<17):\n",
    "    print(\"true\")\n",
    "elif(age>17):\n",
    "    print(\"verybig\")\n",
    "else : print(\"false\")\n"
   ]
  },
  {
   "cell_type": "code",
   "execution_count": 13,
   "metadata": {},
   "outputs": [
    {
     "name": "stdout",
     "output_type": "stream",
     "text": [
      "false\n",
      "true\n"
     ]
    }
   ],
   "source": [
    "one  = True\n",
    "two = False\n",
    "if(one and two):\n",
    " print(\"true\")\n",
    "else:\n",
    " print(\"false\")\n",
    "\n",
    "if(one or two):\n",
    "  print(\"true\")\n",
    "else:\n",
    "  print(\"false\")"
   ]
  },
  {
   "cell_type": "code",
   "execution_count": 22,
   "metadata": {},
   "outputs": [
    {
     "name": "stdout",
     "output_type": "stream",
     "text": [
      "0\n",
      "1\n",
      "2\n",
      "3\n",
      "4\n"
     ]
    }
   ],
   "source": [
    "#conditionals\n",
    "for  i in range(0,5):\n",
    "    print(i)\n",
    "\n"
   ]
  },
  {
   "cell_type": "code",
   "execution_count": 28,
   "metadata": {},
   "outputs": [
    {
     "name": "stdout",
     "output_type": "stream",
     "text": [
      "(0, 1)\n",
      "(1, 2)\n",
      "(2, 3)\n",
      "(3, 4)\n",
      "(4, 5)\n",
      "(5, 'kishan')\n",
      "1\n",
      "2\n",
      "3\n",
      "4\n",
      "5\n",
      "kishan\n"
     ]
    }
   ],
   "source": [
    "lister = [1,2,3,4,5,\"kishan\"]\n",
    "# for i in range(0,6):\n",
    "#     print(i)\n",
    "#     print(lister[i])\n",
    "#the aboe works too\n",
    "\n",
    "for ele in enumerate(lister):\n",
    "    print(ele)\n",
    "\n",
    "for i,ele in enumerate(lister):\n",
    "    print(ele)"
   ]
  },
  {
   "cell_type": "code",
   "execution_count": 31,
   "metadata": {},
   "outputs": [
    {
     "name": "stdout",
     "output_type": "stream",
     "text": [
      "kishan\n",
      "chaudhary\n"
     ]
    }
   ],
   "source": [
    "dictnew = {\n",
    "    \"key1\":\"kishan\",\n",
    "    \"key2\":\"chaudhary\"\n",
    "}\n",
    "for i,ele in enumerate(dictnew):\n",
    "    print(dictnew[ele])"
   ]
  },
  {
   "cell_type": "code",
   "execution_count": 34,
   "metadata": {},
   "outputs": [
    {
     "name": "stdout",
     "output_type": "stream",
     "text": [
      "0\n",
      "1\n",
      "2\n",
      "3\n",
      "4\n",
      "1\n",
      "2\n",
      "kishan\n",
      "don\n"
     ]
    }
   ],
   "source": [
    "#while loop\n",
    "start = 0\n",
    "while(start<5):\n",
    "    print(start)\n",
    "    start+=1\n",
    "\n",
    "newlist = [1,2,\"kishan\",\"don\"]\n",
    "curridx = 0\n",
    "while(curridx<len(newlist)):\n",
    "    print(newlist[curridx])\n",
    "    curridx+=1"
   ]
  },
  {
   "cell_type": "code",
   "execution_count": 2,
   "metadata": {},
   "outputs": [
    {
     "name": "stdout",
     "output_type": "stream",
     "text": [
      "kishan\n",
      "chaudhary\n"
     ]
    }
   ],
   "source": [
    "#functions in python\n",
    "def printmyname():\n",
    "    print(\"kishan\")\n",
    "\n",
    "printmyname()\n",
    "\n",
    "def printthisname(name):\n",
    "    print(name)\n",
    "\n",
    "printthisname(\"chaudhary\")"
   ]
  },
  {
   "cell_type": "code",
   "execution_count": 11,
   "metadata": {},
   "outputs": [
    {
     "name": "stdout",
     "output_type": "stream",
     "text": [
      "[0, 1, 2, 3, 5]\n",
      "[1, 5, 2, 3, 0]\n"
     ]
    }
   ],
   "source": [
    "listnew = [1,5,2,3,0]\n",
    "print(sorted(listnew))\n",
    "print(listnew)\n",
    "#this method can sort only whe all data types are same"
   ]
  },
  {
   "cell_type": "code",
   "execution_count": 9,
   "metadata": {},
   "outputs": [
    {
     "name": "stdout",
     "output_type": "stream",
     "text": [
      "Help on function docfunction in module __main__:\n",
      "\n",
      "docfunction(a, b)\n",
      "    hello this is a function that adds up two number\n",
      "\n",
      "11\n"
     ]
    }
   ],
   "source": [
    "#adding documentation to a function\n",
    "def docfunction(a,b):\n",
    "    \"\"\"\n",
    "     hello this is a function that adds up two number\n",
    "    \"\"\"\n",
    "    return a+b\n",
    "\n",
    "c = docfunction(5,6)\n",
    "help(docfunction)\n",
    "print(c)"
   ]
  },
  {
   "cell_type": "code",
   "execution_count": null,
   "metadata": {},
   "outputs": [],
   "source": []
  },
  {
   "cell_type": "code",
   "execution_count": null,
   "metadata": {},
   "outputs": [
    {
     "name": "stdout",
     "output_type": "stream",
     "text": [
      "1w\n"
     ]
    },
    {
     "ename": "ValueError",
     "evalue": "invalid literal for int() with base 10: '3d'",
     "output_type": "error",
     "traceback": [
      "\u001b[0;31m---------------------------------------------------------------------------\u001b[0m",
      "\u001b[0;31mValueError\u001b[0m                                Traceback (most recent call last)",
      "Cell \u001b[0;32mIn[7], line 4\u001b[0m\n\u001b[1;32m      2\u001b[0m \u001b[38;5;28mprint\u001b[39m(inputnum)\n\u001b[1;32m      3\u001b[0m \u001b[38;5;66;03m#but we can make it type sake by ,\u001b[39;00m\n\u001b[0;32m----> 4\u001b[0m inputnumint \u001b[38;5;241m=\u001b[39m \u001b[38;5;28;43mint\u001b[39;49m\u001b[43m(\u001b[49m\u001b[38;5;28;43minput\u001b[39;49m\u001b[43m(\u001b[49m\u001b[38;5;124;43m\"\u001b[39;49m\u001b[38;5;124;43menter int num\u001b[39;49m\u001b[38;5;124;43m\"\u001b[39;49m\u001b[43m)\u001b[49m\u001b[43m)\u001b[49m\n\u001b[1;32m      5\u001b[0m \u001b[38;5;28mprint\u001b[39m(inputnumint)\n",
      "\u001b[0;31mValueError\u001b[0m: invalid literal for int() with base 10: '3d'"
     ]
    }
   ],
   "source": [
    "inputnum = (input(\"enter number\"))\n",
    "print(inputnum)\n",
    "#but we can make it type sake by ,\n",
    "inputnumint = int(input(\"enter int num\"))\n",
    "print(inputnumint)\n",
    "#entering anything other than int will give valueerror"
   ]
  },
  {
   "cell_type": "code",
   "execution_count": 18,
   "metadata": {},
   "outputs": [
    {
     "name": "stdout",
     "output_type": "stream",
     "text": [
      "9 is your roll no\n",
      "done saving\n"
     ]
    }
   ],
   "source": [
    "#exception handling\n",
    "try:\n",
    "   inputnewnum = int(input(\"enter rollnum : \"))\n",
    "except ValueError:\n",
    "   print(\"enter between 0 to 9\")\n",
    "else:\n",
    "   print(str(inputnewnum)+\" is your roll no\")\n",
    "finally:\n",
    "   print(\"done saving\")\n",
    "\n",
    "#here else is executed for only when no exception , \n",
    "#but finally when their is exception and no exception too ,both times"
   ]
  },
  {
   "cell_type": "code",
   "execution_count": null,
   "metadata": {},
   "outputs": [],
   "source": [
    "#class and objects\n",
    "class circle:\n",
    "    \n",
    "    def __init__ (self,radius,color):\n",
    "       #here self indicates newly created obj of class\n",
    "    \n",
    "       self.radius = radius\n",
    "       self.color = color"
   ]
  },
  {
   "cell_type": "code",
   "execution_count": 11,
   "metadata": {},
   "outputs": [
    {
     "name": "stdout",
     "output_type": "stream",
     "text": [
      "3\n",
      "black\n",
      "3\n",
      "5\n",
      "5\n"
     ]
    }
   ],
   "source": [
    "c = circle(3,\"black\")\n",
    "print(c.radius)\n",
    "print(c.color)\n",
    "d= c\n",
    "print(d.radius)\n",
    "c.radius = 5\n",
    "print(c.radius)\n",
    "print(d.radius)"
   ]
  },
  {
   "cell_type": "code",
   "execution_count": null,
   "metadata": {},
   "outputs": [],
   "source": []
  }
 ],
 "metadata": {
  "kernelspec": {
   "display_name": "Python 3",
   "language": "python",
   "name": "python3"
  },
  "language_info": {
   "codemirror_mode": {
    "name": "ipython",
    "version": 3
   },
   "file_extension": ".py",
   "mimetype": "text/x-python",
   "name": "python",
   "nbconvert_exporter": "python",
   "pygments_lexer": "ipython3",
   "version": "3.11.2"
  }
 },
 "nbformat": 4,
 "nbformat_minor": 2
}
